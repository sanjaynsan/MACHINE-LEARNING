{
 "cells": [
  {
   "cell_type": "code",
   "execution_count": null,
   "id": "93ba5a15",
   "metadata": {},
   "outputs": [],
   "source": [
    "inputt=int(input(\"Enter the age\"))\n",
    "if(inputt<=18):\n",
    "    print(\"children\")\n",
    "elif(inputt<=25):\n",
    "    print(\"adult\")\n",
    "elif(inputt<=60):\n",
    "    print(\"citizen\")\n",
    "else:\n",
    "    print(\"senior citizen\")"
   ]
  },
  {
   "cell_type": "code",
   "execution_count": 10,
   "id": "532fecb9",
   "metadata": {},
   "outputs": [
    {
     "name": "stdout",
     "output_type": "stream",
     "text": [
      "2\n",
      "3\n",
      "4\n",
      "5\n",
      "6\n",
      "7\n",
      "8\n",
      "9\n"
     ]
    }
   ],
   "source": [
    "for temp in range(2,10):\n",
    "    print(temp)"
   ]
  },
  {
   "cell_type": "code",
   "execution_count": 11,
   "id": "4af3ac1c",
   "metadata": {},
   "outputs": [],
   "source": [
    "class cal():\n",
    "    def add(a,b):\n",
    "        add=a+b\n",
    "        return add\n",
    "    def sub(a,b):\n",
    "        sub=a-b\n",
    "        return sub\n",
    "    def mul(a,b):\n",
    "        mul=a*b\n",
    "        return mul"
   ]
  },
  {
   "cell_type": "code",
   "execution_count": 15,
   "id": "1a88a6f9",
   "metadata": {},
   "outputs": [
    {
     "name": "stdout",
     "output_type": "stream",
     "text": [
      "44\n"
     ]
    }
   ],
   "source": [
    "result=cal.add(42,2)\n",
    "print (result)"
   ]
  },
  {
   "cell_type": "code",
   "execution_count": 21,
   "id": "290d158b",
   "metadata": {
    "scrolled": true
   },
   "outputs": [
    {
     "ename": "SyntaxError",
     "evalue": "invalid syntax (<ipython-input-21-b63dec37ab16>, line 1)",
     "output_type": "error",
     "traceback": [
      "\u001b[1;36m  File \u001b[1;32m\"<ipython-input-21-b63dec37ab16>\"\u001b[1;36m, line \u001b[1;32m1\u001b[0m\n\u001b[1;33m    from cal library import cal\u001b[0m\n\u001b[1;37m             ^\u001b[0m\n\u001b[1;31mSyntaxError\u001b[0m\u001b[1;31m:\u001b[0m invalid syntax\n"
     ]
    }
   ],
   "source": [
    "from cal library import cal"
   ]
  },
  {
   "cell_type": "code",
   "execution_count": 22,
   "id": "d0d2479e",
   "metadata": {},
   "outputs": [],
   "source": [
    "import pandas as pa"
   ]
  },
  {
   "cell_type": "code",
   "execution_count": null,
   "id": "d5042495",
   "metadata": {},
   "outputs": [],
   "source": []
  }
 ],
 "metadata": {
  "kernelspec": {
   "display_name": "Python 3",
   "language": "python",
   "name": "python3"
  },
  "language_info": {
   "codemirror_mode": {
    "name": "ipython",
    "version": 3
   },
   "file_extension": ".py",
   "mimetype": "text/x-python",
   "name": "python",
   "nbconvert_exporter": "python",
   "pygments_lexer": "ipython3",
   "version": "3.8.8"
  }
 },
 "nbformat": 4,
 "nbformat_minor": 5
}
