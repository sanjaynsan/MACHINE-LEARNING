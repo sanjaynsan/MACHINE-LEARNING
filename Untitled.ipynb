{
 "cells": [
  {
   "cell_type": "code",
   "execution_count": null,
   "id": "6ff8ba09",
   "metadata": {},
   "outputs": [],
   "source": [
    "print(\"welcom to hope ai\")"
   ]
  },
  {
   "cell_type": "code",
   "execution_count": null,
   "id": "e32ae7e5",
   "metadata": {},
   "outputs": [],
   "source": [
    "print(\"what a fuck it is\")"
   ]
  },
  {
   "cell_type": "code",
   "execution_count": null,
   "id": "b2ef04db",
   "metadata": {},
   "outputs": [],
   "source": [
    "num1=5\n",
    "num2=4"
   ]
  },
  {
   "cell_type": "code",
   "execution_count": null,
   "id": "59d16538",
   "metadata": {},
   "outputs": [],
   "source": [
    "num3=num1+num2"
   ]
  },
  {
   "cell_type": "code",
   "execution_count": null,
   "id": "f9ab9f55",
   "metadata": {},
   "outputs": [],
   "source": [
    "num3"
   ]
  },
  {
   "cell_type": "code",
   "execution_count": null,
   "id": "d9a7f935",
   "metadata": {},
   "outputs": [],
   "source": [
    "print(num3)"
   ]
  },
  {
   "cell_type": "code",
   "execution_count": null,
   "id": "41554530",
   "metadata": {},
   "outputs": [],
   "source": [
    "x=num3"
   ]
  },
  {
   "cell_type": "code",
   "execution_count": null,
   "id": "0d5096bc",
   "metadata": {},
   "outputs": [],
   "source": [
    "print(x)"
   ]
  },
  {
   "cell_type": "code",
   "execution_count": null,
   "id": "9d22e52f",
   "metadata": {},
   "outputs": [],
   "source": [
    "y=x"
   ]
  },
  {
   "cell_type": "code",
   "execution_count": null,
   "id": "9d71321e",
   "metadata": {},
   "outputs": [],
   "source": [
    "print(y)"
   ]
  },
  {
   "cell_type": "code",
   "execution_count": null,
   "id": "e6e901ff",
   "metadata": {},
   "outputs": [],
   "source": [
    "print(x)"
   ]
  },
  {
   "cell_type": "code",
   "execution_count": null,
   "id": "6e183050",
   "metadata": {},
   "outputs": [],
   "source": [
    "z=y"
   ]
  },
  {
   "cell_type": "code",
   "execution_count": null,
   "id": "6c1298b0",
   "metadata": {},
   "outputs": [],
   "source": [
    "print(z)"
   ]
  },
  {
   "cell_type": "code",
   "execution_count": null,
   "id": "08ca96a9",
   "metadata": {},
   "outputs": [],
   "source": []
  },
  {
   "cell_type": "code",
   "execution_count": null,
   "id": "8cd08d45",
   "metadata": {},
   "outputs": [],
   "source": [
    "num3+_"
   ]
  },
  {
   "cell_type": "code",
   "execution_count": null,
   "id": "d9a18c34",
   "metadata": {},
   "outputs": [],
   "source": [
    "num3+_"
   ]
  },
  {
   "cell_type": "code",
   "execution_count": null,
   "id": "dd23a2a2",
   "metadata": {},
   "outputs": [],
   "source": [
    "print(num3)"
   ]
  },
  {
   "cell_type": "code",
   "execution_count": null,
   "id": "dea39f04",
   "metadata": {},
   "outputs": [],
   "source": [
    "num=5"
   ]
  },
  {
   "cell_type": "code",
   "execution_count": null,
   "id": "dd990708",
   "metadata": {},
   "outputs": [],
   "source": [
    "num+_"
   ]
  },
  {
   "cell_type": "code",
   "execution_count": null,
   "id": "f1859d92",
   "metadata": {},
   "outputs": [],
   "source": [
    "print(\"addition of two numbers:\",num+_)"
   ]
  },
  {
   "cell_type": "code",
   "execution_count": null,
   "id": "701f2e5c",
   "metadata": {},
   "outputs": [],
   "source": [
    "num5=int(input(\"ENTER THE NUM:\"))"
   ]
  },
  {
   "cell_type": "code",
   "execution_count": null,
   "id": "9866db3d",
   "metadata": {},
   "outputs": [],
   "source": []
  },
  {
   "cell_type": "code",
   "execution_count": null,
   "id": "046ee391",
   "metadata": {},
   "outputs": [],
   "source": [
    "num6=int(input(\"ENTER THE NUM:\"))\n",
    "add=num5+num6\n",
    "print(add)"
   ]
  },
  {
   "cell_type": "code",
   "execution_count": null,
   "id": "e130ff89",
   "metadata": {},
   "outputs": [],
   "source": [
    "print(\"the mul of the two num:\",add)"
   ]
  },
  {
   "cell_type": "code",
   "execution_count": null,
   "id": "c3ecfc29",
   "metadata": {},
   "outputs": [],
   "source": [
    "print(\"what can do if you suck my:\",num1)"
   ]
  },
  {
   "cell_type": "code",
   "execution_count": null,
   "id": "e67fd372",
   "metadata": {},
   "outputs": [],
   "source": [
    "num=add+8\n",
    "print(num)"
   ]
  },
  {
   "cell_type": "code",
   "execution_count": null,
   "id": "22b8c4f4",
   "metadata": {},
   "outputs": [],
   "source": []
  },
  {
   "cell_type": "code",
   "execution_count": null,
   "id": "e20a146f",
   "metadata": {},
   "outputs": [],
   "source": [
    "inputt=int(input(\"enter the age\"))\n",
    "if (inputt<=5):\n",
    "    print('lesser that five')\n",
    "else:\n",
    "    print('greater than five')"
   ]
  },
  {
   "cell_type": "code",
   "execution_count": null,
   "id": "82195505",
   "metadata": {},
   "outputs": [],
   "source": [
    "crush=input('give your fucking crush name')\n",
    "if(crush==\"nivetha\"):\n",
    "    print(\"fuck her ass hole\")\n",
    "elif(crush==\"pooja\"):\n",
    "    print(\"lick my asshole and balls\")\n",
    "elif(crush==\"akalya\"):\n",
    "    print(\"give me your asshole in my mouth\")\n",
    "else:\n",
    "    print(\"give your head to my dick\")"
   ]
  },
  {
   "cell_type": "code",
   "execution_count": null,
   "id": "33e51927",
   "metadata": {},
   "outputs": [],
   "source": [
    "list1=[\"pooja\",\"akalya\",'nevetha','aasika']"
   ]
  },
  {
   "cell_type": "code",
   "execution_count": null,
   "id": "151d7f84",
   "metadata": {},
   "outputs": [],
   "source": [
    "for temp in list1[0:3]:\n",
    "    print(temp)"
   ]
  },
  {
   "cell_type": "code",
   "execution_count": null,
   "id": "c25a7cea",
   "metadata": {},
   "outputs": [],
   "source": [
    "range(0,10)"
   ]
  },
  {
   "cell_type": "code",
   "execution_count": null,
   "id": "3b7a3e48",
   "metadata": {},
   "outputs": [],
   "source": [
    "for tem in range(5):\n",
    "    print(tem)"
   ]
  },
  {
   "cell_type": "code",
   "execution_count": null,
   "id": "174e70cf",
   "metadata": {},
   "outputs": [],
   "source": [
    "list1[2]"
   ]
  },
  {
   "cell_type": "code",
   "execution_count": null,
   "id": "cb5e246b",
   "metadata": {},
   "outputs": [],
   "source": [
    "list1[1]"
   ]
  },
  {
   "cell_type": "code",
   "execution_count": null,
   "id": "47d58c6f",
   "metadata": {},
   "outputs": [],
   "source": [
    "list1[::]"
   ]
  },
  {
   "cell_type": "code",
   "execution_count": null,
   "id": "29610317",
   "metadata": {},
   "outputs": [],
   "source": [
    "print(\"lick your tougue in my hole\",list1[1])"
   ]
  },
  {
   "cell_type": "code",
   "execution_count": null,
   "id": "0a8dd64a",
   "metadata": {},
   "outputs": [],
   "source": [
    "print(list1[-4::1])"
   ]
  },
  {
   "cell_type": "code",
   "execution_count": null,
   "id": "f19151ba",
   "metadata": {},
   "outputs": [],
   "source": [
    "print(list1[0:4])"
   ]
  },
  {
   "cell_type": "code",
   "execution_count": null,
   "id": "97d73398",
   "metadata": {},
   "outputs": [],
   "source": [
    "print(list1[1:3])"
   ]
  },
  {
   "cell_type": "code",
   "execution_count": null,
   "id": "04e49461",
   "metadata": {},
   "outputs": [],
   "source": [
    "listofsults=['pooja','akalya','aasika','shalini','shalu','nivetha','malakiva','anayapandaey']"
   ]
  },
  {
   "cell_type": "code",
   "execution_count": null,
   "id": "0730d0cd",
   "metadata": {},
   "outputs": [],
   "source": [
    "print(listofsults[0:3])"
   ]
  },
  {
   "cell_type": "code",
   "execution_count": null,
   "id": "d375b9a3",
   "metadata": {},
   "outputs": [],
   "source": [
    "print(listofsults[::])"
   ]
  },
  {
   "cell_type": "code",
   "execution_count": null,
   "id": "19f17cd2",
   "metadata": {},
   "outputs": [],
   "source": [
    "print(listofsults[1],'put finger in ',listofsults[2],'asshole')"
   ]
  },
  {
   "cell_type": "code",
   "execution_count": 1,
   "id": "7e8f8709",
   "metadata": {},
   "outputs": [
    {
     "ename": "NameError",
     "evalue": "name 'listofsults' is not defined",
     "output_type": "error",
     "traceback": [
      "\u001b[1;31m---------------------------------------------------------------------------\u001b[0m",
      "\u001b[1;31mNameError\u001b[0m                                 Traceback (most recent call last)",
      "\u001b[1;32m~\\AppData\\Local\\Temp/ipykernel_15972/582695727.py\u001b[0m in \u001b[0;36m<module>\u001b[1;34m\u001b[0m\n\u001b[1;32m----> 1\u001b[1;33m \u001b[0mprint\u001b[0m\u001b[1;33m(\u001b[0m\u001b[0mlistofsults\u001b[0m\u001b[1;33m[\u001b[0m\u001b[1;33m:\u001b[0m\u001b[1;33m:\u001b[0m\u001b[1;33m-\u001b[0m\u001b[1;36m3\u001b[0m\u001b[1;33m]\u001b[0m\u001b[1;33m)\u001b[0m\u001b[1;33m\u001b[0m\u001b[1;33m\u001b[0m\u001b[0m\n\u001b[0m",
      "\u001b[1;31mNameError\u001b[0m: name 'listofsults' is not defined"
     ]
    }
   ],
   "source": [
    "print(listofsults[::-3])"
   ]
  },
  {
   "cell_type": "code",
   "execution_count": null,
   "id": "5c3d5d8f",
   "metadata": {},
   "outputs": [],
   "source": [
    "newlist=list1+listofsults"
   ]
  },
  {
   "cell_type": "code",
   "execution_count": null,
   "id": "badb26f5",
   "metadata": {},
   "outputs": [],
   "source": [
    "print(newlist)"
   ]
  },
  {
   "cell_type": "code",
   "execution_count": null,
   "id": "630342cd",
   "metadata": {},
   "outputs": [],
   "source": []
  }
 ],
 "metadata": {
  "kernelspec": {
   "display_name": "Python 3 (ipykernel)",
   "language": "python",
   "name": "python3"
  },
  "language_info": {
   "codemirror_mode": {
    "name": "ipython",
    "version": 3
   },
   "file_extension": ".py",
   "mimetype": "text/x-python",
   "name": "python",
   "nbconvert_exporter": "python",
   "pygments_lexer": "ipython3",
   "version": "3.9.7"
  }
 },
 "nbformat": 4,
 "nbformat_minor": 5
}
