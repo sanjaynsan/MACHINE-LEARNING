{
 "cells": [
  {
   "cell_type": "code",
   "execution_count": 1,
   "id": "86365d71",
   "metadata": {},
   "outputs": [
    {
     "ename": "NameError",
     "evalue": "name 'welcome' is not defined",
     "output_type": "error",
     "traceback": [
      "\u001b[1;31m--------------------------------------------------------------------------\u001b[0m",
      "\u001b[1;31mNameError\u001b[0m                                Traceback (most recent call last)",
      "\u001b[1;32m<ipython-input-1-fab115d2dd65>\u001b[0m in \u001b[0;36m<module>\u001b[1;34m\u001b[0m\n\u001b[1;32m----> 1\u001b[1;33m \u001b[0mprint\u001b[0m\u001b[1;33m(\u001b[0m\u001b[0mwelcome\u001b[0m\u001b[1;33m)\u001b[0m\u001b[1;33m\u001b[0m\u001b[1;33m\u001b[0m\u001b[0m\n\u001b[0m",
      "\u001b[1;31mNameError\u001b[0m: name 'welcome' is not defined"
     ]
    }
   ],
   "source": [
    "print(welcome)"
   ]
  },
  {
   "cell_type": "code",
   "execution_count": 2,
   "id": "9954f3a9",
   "metadata": {},
   "outputs": [
    {
     "name": "stdout",
     "output_type": "stream",
     "text": [
      "welcome\n"
     ]
    }
   ],
   "source": [
    "print(\"welcome\")"
   ]
  },
  {
   "cell_type": "code",
   "execution_count": 3,
   "id": "7373eac0",
   "metadata": {},
   "outputs": [],
   "source": [
    "num1=50\n",
    "num2=50\n",
    "sub=num1-num2"
   ]
  },
  {
   "cell_type": "code",
   "execution_count": 4,
   "id": "14cfc9c0",
   "metadata": {},
   "outputs": [
    {
     "name": "stdout",
     "output_type": "stream",
     "text": [
      "the sub of two numbers : 0\n"
     ]
    }
   ],
   "source": [
    "print(\"the sub of two numbers :\",sub)"
   ]
  },
  {
   "cell_type": "code",
   "execution_count": 5,
   "id": "339fbd1b",
   "metadata": {},
   "outputs": [
    {
     "name": "stdout",
     "output_type": "stream",
     "text": [
      "Enter the number130\n",
      "Enter the number210\n",
      "The mul of the two numbers is 300\n"
     ]
    }
   ],
   "source": [
    "num1=int(input(\"Enter the number1\"))\n",
    "num2=int(input(\"Enter the number2\"))\n",
    "mul=num1*num2\n",
    "print(\"The mul of the two numbers is\",mul)"
   ]
  },
  {
   "cell_type": "code",
   "execution_count": 7,
   "id": "990c4562",
   "metadata": {},
   "outputs": [
    {
     "name": "stdout",
     "output_type": "stream",
     "text": [
      "Enter the number15000\n",
      "Enter the number25113\n",
      "The mul of the two numbers is 25565000\n"
     ]
    }
   ],
   "source": [
    "num1=int(input(\"Enter the number1\"))\n",
    "num2=int(input(\"Enter the number2\"))\n",
    "mul=num1*num2\n",
    "print(\"The mul of the two numbers is\",mul)"
   ]
  },
  {
   "cell_type": "code",
   "execution_count": null,
   "id": "077c1fca",
   "metadata": {},
   "outputs": [],
   "source": []
  },
  {
   "cell_type": "code",
   "execution_count": 8,
   "id": "e60872cb",
   "metadata": {},
   "outputs": [
    {
     "name": "stdout",
     "output_type": "stream",
     "text": [
      "Enter the number13363\n",
      "Enter the number265553\n",
      "The mul of the two numbers is 220454739\n"
     ]
    }
   ],
   "source": [
    "num1=int(input(\"Enter the number1\"))\n",
    "num2=int(input(\"Enter the number2\"))\n",
    "mul=num1*num2\n",
    "print(\"The mul of the two numbers is\",mul)"
   ]
  },
  {
   "cell_type": "code",
   "execution_count": null,
   "id": "b3eeec42",
   "metadata": {},
   "outputs": [],
   "source": []
  }
 ],
 "metadata": {
  "kernelspec": {
   "display_name": "Python 3",
   "language": "python",
   "name": "python3"
  },
  "language_info": {
   "codemirror_mode": {
    "name": "ipython",
    "version": 3
   },
   "file_extension": ".py",
   "mimetype": "text/x-python",
   "name": "python",
   "nbconvert_exporter": "python",
   "pygments_lexer": "ipython3",
   "version": "3.8.8"
  }
 },
 "nbformat": 4,
 "nbformat_minor": 5
}
